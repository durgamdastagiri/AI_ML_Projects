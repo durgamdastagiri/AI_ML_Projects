{
 "cells": [
  {
   "cell_type": "markdown",
   "metadata": {
    "colab_type": "text",
    "id": "dJ8V4VHpP6lZ"
   },
   "source": [
    "**Importing Base libraries**"
   ]
  },
  {
   "cell_type": "code",
   "execution_count": 1,
   "metadata": {
    "colab": {
     "base_uri": "https://localhost:8080/",
     "height": 71
    },
    "colab_type": "code",
    "id": "TVYtQnLQPD2u",
    "outputId": "2346a44d-40a8-4dd0-8c77-61e7b763733d"
   },
   "outputs": [
    {
     "name": "stderr",
     "output_type": "stream",
     "text": [
      "/usr/local/lib/python3.6/dist-packages/statsmodels/tools/_testing.py:19: FutureWarning: pandas.util.testing is deprecated. Use the functions in the public API at pandas.testing instead.\n",
      "  import pandas.util.testing as tm\n"
     ]
    }
   ],
   "source": [
    "import numpy as np\n",
    "import pandas as pd\n",
    "import seaborn as sns\n",
    "import matplotlib.pyplot as plt\n",
    "%matplotlib inline"
   ]
  },
  {
   "cell_type": "markdown",
   "metadata": {
    "colab_type": "text",
    "id": "XsGON3WtQGib"
   },
   "source": [
    "**Loading Data**"
   ]
  },
  {
   "cell_type": "code",
   "execution_count": 2,
   "metadata": {
    "colab": {
     "base_uri": "https://localhost:8080/",
     "height": 258
    },
    "colab_type": "code",
    "id": "NG4YGTEzPxvt",
    "outputId": "59896448-87a9-4c31-d70f-2492fe1d7790"
   },
   "outputs": [
    {
     "name": "stderr",
     "output_type": "stream",
     "text": [
      "/usr/local/lib/python3.6/dist-packages/ipykernel_launcher.py:4: FutureWarning: The pandas.datetime class is deprecated and will be removed from pandas in a future version. Import from datetime instead.\n",
      "  after removing the cwd from sys.path.\n"
     ]
    },
    {
     "data": {
      "text/html": [
       "<div>\n",
       "<style scoped>\n",
       "    .dataframe tbody tr th:only-of-type {\n",
       "        vertical-align: middle;\n",
       "    }\n",
       "\n",
       "    .dataframe tbody tr th {\n",
       "        vertical-align: top;\n",
       "    }\n",
       "\n",
       "    .dataframe thead th {\n",
       "        text-align: right;\n",
       "    }\n",
       "</style>\n",
       "<table border=\"1\" class=\"dataframe\">\n",
       "  <thead>\n",
       "    <tr style=\"text-align: right;\">\n",
       "      <th></th>\n",
       "      <th>Store</th>\n",
       "      <th>Date</th>\n",
       "      <th>Weekly_Sales</th>\n",
       "      <th>Holiday_Flag</th>\n",
       "      <th>Temperature</th>\n",
       "      <th>Fuel_Price</th>\n",
       "      <th>CPI</th>\n",
       "      <th>Unemployment</th>\n",
       "    </tr>\n",
       "  </thead>\n",
       "  <tbody>\n",
       "    <tr>\n",
       "      <th>0</th>\n",
       "      <td>1</td>\n",
       "      <td>2010-02-05</td>\n",
       "      <td>1643690.90</td>\n",
       "      <td>0</td>\n",
       "      <td>42.31</td>\n",
       "      <td>2.572</td>\n",
       "      <td>211.096358</td>\n",
       "      <td>8.106</td>\n",
       "    </tr>\n",
       "    <tr>\n",
       "      <th>1</th>\n",
       "      <td>1</td>\n",
       "      <td>2010-02-12</td>\n",
       "      <td>1641957.44</td>\n",
       "      <td>1</td>\n",
       "      <td>38.51</td>\n",
       "      <td>2.548</td>\n",
       "      <td>211.242170</td>\n",
       "      <td>8.106</td>\n",
       "    </tr>\n",
       "    <tr>\n",
       "      <th>2</th>\n",
       "      <td>1</td>\n",
       "      <td>2010-02-19</td>\n",
       "      <td>1611968.17</td>\n",
       "      <td>0</td>\n",
       "      <td>39.93</td>\n",
       "      <td>2.514</td>\n",
       "      <td>211.289143</td>\n",
       "      <td>8.106</td>\n",
       "    </tr>\n",
       "    <tr>\n",
       "      <th>3</th>\n",
       "      <td>1</td>\n",
       "      <td>2010-02-26</td>\n",
       "      <td>1409727.59</td>\n",
       "      <td>0</td>\n",
       "      <td>46.63</td>\n",
       "      <td>2.561</td>\n",
       "      <td>211.319643</td>\n",
       "      <td>8.106</td>\n",
       "    </tr>\n",
       "    <tr>\n",
       "      <th>4</th>\n",
       "      <td>1</td>\n",
       "      <td>2010-03-05</td>\n",
       "      <td>1554806.68</td>\n",
       "      <td>0</td>\n",
       "      <td>46.50</td>\n",
       "      <td>2.625</td>\n",
       "      <td>211.350143</td>\n",
       "      <td>8.106</td>\n",
       "    </tr>\n",
       "  </tbody>\n",
       "</table>\n",
       "</div>"
      ],
      "text/plain": [
       "   Store       Date  Weekly_Sales  ...  Fuel_Price         CPI  Unemployment\n",
       "0      1 2010-02-05    1643690.90  ...       2.572  211.096358         8.106\n",
       "1      1 2010-02-12    1641957.44  ...       2.548  211.242170         8.106\n",
       "2      1 2010-02-19    1611968.17  ...       2.514  211.289143         8.106\n",
       "3      1 2010-02-26    1409727.59  ...       2.561  211.319643         8.106\n",
       "4      1 2010-03-05    1554806.68  ...       2.625  211.350143         8.106\n",
       "\n",
       "[5 rows x 8 columns]"
      ]
     },
     "execution_count": 2,
     "metadata": {
      "tags": []
     },
     "output_type": "execute_result"
    }
   ],
   "source": [
    "from pandas import datetime\n",
    "\n",
    "def parser(time):\n",
    "    return datetime.strptime(time, '%d-%m-%Y')\n",
    "\n",
    "wallmart_data = pd.read_csv('/content/drive/My Drive/Colab Notebooks/DataScience_Assessments/Retail_wallmart_analysis/Walmart_Store_sales.csv', parse_dates=[1], date_parser = parser)\n",
    "wallmart_data.head()"
   ]
  },
  {
   "cell_type": "markdown",
   "metadata": {
    "colab_type": "text",
    "id": "bZQJ4Tp-85Xr"
   },
   "source": [
    "**Adding holiday column**"
   ]
  },
  {
   "cell_type": "code",
   "execution_count": 0,
   "metadata": {
    "colab": {},
    "colab_type": "code",
    "id": "Ovd6xteA84D4"
   },
   "outputs": [],
   "source": [
    "def addHoliday(date):\n",
    "  if ((pd.to_datetime(date) == pd.to_datetime(pd.Series(['12-02-10', '11-02-11', '10-02-12', '08-02-13']))).any()) :\n",
    "    return 'Super Bowl'\n",
    "  elif ( (pd.to_datetime(date) == pd.to_datetime(pd.Series(['10-09-10', '09-09-11', '07-09-12', '06-09-13']))).any()):\n",
    "    return 'Labour Day'\n",
    "  elif ((pd.to_datetime(date) == pd.to_datetime(pd.Series(['26-11-10', '25-11-11', '23-11-12', '29-11-13']))).any()):\n",
    "    return 'Thanksgiving'\n",
    "  elif ( (pd.to_datetime(date) == pd.to_datetime(pd.Series(['31-12-10', '30-12-11', '28-12-12', '27-12-13']))).any()):\n",
    "    return 'Christmas'\n",
    "  else:\n",
    "    return 'Non holiday'\n",
    "   "
   ]
  },
  {
   "cell_type": "code",
   "execution_count": 0,
   "metadata": {
    "colab": {},
    "colab_type": "code",
    "id": "cApr2GdiAT7p"
   },
   "outputs": [],
   "source": [
    "wallmart_data['holiday'] = wallmart_data['Date'].apply(addHoliday)"
   ]
  },
  {
   "cell_type": "code",
   "execution_count": 0,
   "metadata": {
    "colab": {},
    "colab_type": "code",
    "id": "-ZRzTxNEejL8"
   },
   "outputs": [],
   "source": [
    "wallmart_data.sort_values(by='Date', ignore_index=True, inplace=True)"
   ]
  },
  {
   "cell_type": "code",
   "execution_count": 6,
   "metadata": {
    "colab": {
     "base_uri": "https://localhost:8080/",
     "height": 289
    },
    "colab_type": "code",
    "id": "ueOtkZd5Qy-e",
    "outputId": "b1373337-6ade-45dc-c6e0-3ac9588ad481"
   },
   "outputs": [
    {
     "name": "stdout",
     "output_type": "stream",
     "text": [
      "<class 'pandas.core.frame.DataFrame'>\n",
      "RangeIndex: 6435 entries, 0 to 6434\n",
      "Data columns (total 9 columns):\n",
      " #   Column        Non-Null Count  Dtype         \n",
      "---  ------        --------------  -----         \n",
      " 0   Store         6435 non-null   int64         \n",
      " 1   Date          6435 non-null   datetime64[ns]\n",
      " 2   Weekly_Sales  6435 non-null   float64       \n",
      " 3   Holiday_Flag  6435 non-null   int64         \n",
      " 4   Temperature   6435 non-null   float64       \n",
      " 5   Fuel_Price    6435 non-null   float64       \n",
      " 6   CPI           6435 non-null   float64       \n",
      " 7   Unemployment  6435 non-null   float64       \n",
      " 8   holiday       6435 non-null   object        \n",
      "dtypes: datetime64[ns](1), float64(5), int64(2), object(1)\n",
      "memory usage: 452.6+ KB\n"
     ]
    }
   ],
   "source": [
    "wallmart_data.info()"
   ]
  },
  {
   "cell_type": "markdown",
   "metadata": {
    "colab_type": "text",
    "id": "X_G2OuVNRLEV"
   },
   "source": [
    "There are 8 columns and 6435 entries and  no missing data. "
   ]
  },
  {
   "cell_type": "markdown",
   "metadata": {
    "colab_type": "text",
    "id": "a76Sn4xcIREr"
   },
   "source": [
    "### 1. Which store has maximum sales\n",
    "\n",
    "---\n",
    "\n"
   ]
  },
  {
   "cell_type": "code",
   "execution_count": 0,
   "metadata": {
    "colab": {},
    "colab_type": "code",
    "id": "ar0BNq5eRHZh"
   },
   "outputs": [],
   "source": [
    "gb_store = wallmart_data.groupby('Store')"
   ]
  },
  {
   "cell_type": "code",
   "execution_count": 0,
   "metadata": {
    "colab": {},
    "colab_type": "code",
    "id": "d8K-3opUovm2"
   },
   "outputs": [],
   "source": []
  },
  {
   "cell_type": "code",
   "execution_count": 8,
   "metadata": {
    "colab": {
     "base_uri": "https://localhost:8080/",
     "height": 136
    },
    "colab_type": "code",
    "id": "kslyEuu1VH8C",
    "outputId": "6ca8b4ca-d14e-4333-be7e-146c74b8bbc9"
   },
   "outputs": [
    {
     "data": {
      "text/plain": [
       "Weekly_Sales    3.013978e+08\n",
       "Holiday_Flag    1.000000e+01\n",
       "Temperature     7.929550e+03\n",
       "Fuel_Price      4.887180e+02\n",
       "CPI             2.989245e+04\n",
       "Unemployment    1.054112e+03\n",
       "Name: 20, dtype: float64"
      ]
     },
     "execution_count": 8,
     "metadata": {
      "tags": []
     },
     "output_type": "execute_result"
    }
   ],
   "source": [
    "gb_store.sum().iloc[gb_store.sum()['Weekly_Sales'].argmax()]"
   ]
  },
  {
   "cell_type": "code",
   "execution_count": 9,
   "metadata": {
    "colab": {
     "base_uri": "https://localhost:8080/",
     "height": 34
    },
    "colab_type": "code",
    "id": "FgjYgv3LUAoS",
    "outputId": "8c491f53-e354-4d9c-8183-4660dac3c433"
   },
   "outputs": [
    {
     "data": {
      "text/plain": [
       "301397792.46000004"
      ]
     },
     "execution_count": 9,
     "metadata": {
      "tags": []
     },
     "output_type": "execute_result"
    }
   ],
   "source": [
    "gb_store.Weekly_Sales.sum().max()"
   ]
  },
  {
   "cell_type": "markdown",
   "metadata": {
    "colab_type": "text",
    "id": "jOOLt0FLptvt"
   },
   "source": [
    "Store 20 has maximum sales, and maximum sales value is **301397792.46000004**"
   ]
  },
  {
   "cell_type": "code",
   "execution_count": 0,
   "metadata": {
    "colab": {},
    "colab_type": "code",
    "id": "CPZ4hn3DIjOj"
   },
   "outputs": [],
   "source": []
  },
  {
   "cell_type": "code",
   "execution_count": 10,
   "metadata": {
    "colab": {
     "base_uri": "https://localhost:8080/",
     "height": 136
    },
    "colab_type": "code",
    "id": "kZSA5ig-akow",
    "outputId": "63f9bcf1-7ed3-4d33-b332-18bad9c5c9bc"
   },
   "outputs": [
    {
     "data": {
      "text/plain": [
       "Weekly_Sales    3.716022e+07\n",
       "Holiday_Flag    1.000000e+01\n",
       "Temperature     1.097213e+04\n",
       "Fuel_Price      5.113570e+02\n",
       "CPI             1.840119e+04\n",
       "Unemployment    1.220241e+03\n",
       "Name: 33, dtype: float64"
      ]
     },
     "execution_count": 10,
     "metadata": {
      "tags": []
     },
     "output_type": "execute_result"
    }
   ],
   "source": [
    "gb_store.sum().iloc[gb_store.sum()['Weekly_Sales'].argmin()]"
   ]
  },
  {
   "cell_type": "code",
   "execution_count": 11,
   "metadata": {
    "colab": {
     "base_uri": "https://localhost:8080/",
     "height": 34
    },
    "colab_type": "code",
    "id": "vmUny4mWq5gE",
    "outputId": "d755fcc1-2747-44ee-8600-bfee309678aa"
   },
   "outputs": [
    {
     "data": {
      "text/plain": [
       "37160221.960000016"
      ]
     },
     "execution_count": 11,
     "metadata": {
      "tags": []
     },
     "output_type": "execute_result"
    }
   ],
   "source": [
    "gb_store.Weekly_Sales.sum().min()"
   ]
  },
  {
   "cell_type": "markdown",
   "metadata": {
    "colab_type": "text",
    "id": "e0QTagn-qv2g"
   },
   "source": [
    "Store 33 has minimum sales, and minimum sales value is 37160221.960000016"
   ]
  },
  {
   "cell_type": "markdown",
   "metadata": {
    "colab_type": "text",
    "id": "PMAbnKpGIkxp"
   },
   "source": [
    "### 2. Which store has maximum standard deviation i.e., the sales vary a lot. Also, find out the coefficient of mean to standard deviation\n",
    "\n",
    "\n",
    "---\n",
    "\n"
   ]
  },
  {
   "cell_type": "code",
   "execution_count": 0,
   "metadata": {
    "colab": {},
    "colab_type": "code",
    "id": "8v1R_xTJJA1_"
   },
   "outputs": [],
   "source": []
  },
  {
   "cell_type": "code",
   "execution_count": 12,
   "metadata": {
    "colab": {
     "base_uri": "https://localhost:8080/",
     "height": 54
    },
    "colab_type": "code",
    "id": "O0bFnnvXjTz6",
    "outputId": "478de717-59be-4a74-8b27-cbf7f37940d4"
   },
   "outputs": [
    {
     "data": {
      "text/plain": [
       "317569.9494755081"
      ]
     },
     "execution_count": 12,
     "metadata": {
      "tags": []
     },
     "output_type": "execute_result"
    }
   ],
   "source": [
    "gb_store.Weekly_Sales.std().max()"
   ]
  },
  {
   "cell_type": "code",
   "execution_count": 13,
   "metadata": {
    "colab": {
     "base_uri": "https://localhost:8080/",
     "height": 156
    },
    "colab_type": "code",
    "id": "jhx5YvSFrNkK",
    "outputId": "b121119e-988d-480f-f102-dbcde94ef962"
   },
   "outputs": [
    {
     "data": {
      "text/plain": [
       "Weekly_Sales    317569.949476\n",
       "Holiday_Flag         0.255926\n",
       "Temperature         16.271612\n",
       "Fuel_Price           0.443029\n",
       "CPI                  3.594820\n",
       "Unemployment         0.151460\n",
       "Name: 14, dtype: float64"
      ]
     },
     "execution_count": 13,
     "metadata": {
      "tags": []
     },
     "output_type": "execute_result"
    }
   ],
   "source": [
    "gb_store.std().iloc[gb_store.std()['Weekly_Sales'].argmax()]"
   ]
  },
  {
   "cell_type": "markdown",
   "metadata": {
    "colab_type": "text",
    "id": "AwXhRk-UssqU"
   },
   "source": [
    "Store 14 has max standard deviation and the value is **317569.9494755081**"
   ]
  },
  {
   "cell_type": "markdown",
   "metadata": {
    "colab_type": "text",
    "id": "9Z-LMF7orRc7"
   },
   "source": [
    "\n",
    "### 3. Which store/s has good quarterly growth rate in Q3’2012\n",
    "---\n",
    "\n"
   ]
  },
  {
   "cell_type": "code",
   "execution_count": 0,
   "metadata": {
    "cellView": "form",
    "colab": {},
    "colab_type": "code",
    "id": "AdScNuP9rrNr"
   },
   "outputs": [],
   "source": [
    "#@title\n",
    "wallmart_data['Date'] = wallmart_data['Date'].astype('datetime64[ns]')"
   ]
  },
  {
   "cell_type": "code",
   "execution_count": 0,
   "metadata": {
    "cellView": "form",
    "colab": {},
    "colab_type": "code",
    "id": "pLT5ikR4xBGT"
   },
   "outputs": [],
   "source": [
    "#@title\n",
    "def getQ32012(date):\n",
    "  quarter = pd.to_datetime(date).quarter\n",
    "  year = pd.to_datetime(date).year\n",
    "  if(quarter==3 and year==2012):\n",
    "    return True\n",
    "  return False"
   ]
  },
  {
   "cell_type": "code",
   "execution_count": 0,
   "metadata": {
    "cellView": "form",
    "colab": {},
    "colab_type": "code",
    "id": "DYiAGSnn0bVh"
   },
   "outputs": [],
   "source": [
    "#@title\n",
    "gb_store_q32012 = wallmart_data[wallmart_data.Date.apply(getQ32012)].groupby('Store')"
   ]
  },
  {
   "cell_type": "code",
   "execution_count": 17,
   "metadata": {
    "cellView": "form",
    "colab": {
     "base_uri": "https://localhost:8080/",
     "height": 54
    },
    "colab_type": "code",
    "id": "yCoG0Zqp0nTn",
    "outputId": "5c146adc-59df-437a-b8b2-b2dda9975835"
   },
   "outputs": [
    {
     "data": {
      "text/plain": [
       "27796792.46"
      ]
     },
     "execution_count": 17,
     "metadata": {
      "tags": []
     },
     "output_type": "execute_result"
    }
   ],
   "source": [
    "#@title\n",
    "gb_store_q32012.sum()['Weekly_Sales'].max()"
   ]
  },
  {
   "cell_type": "code",
   "execution_count": 18,
   "metadata": {
    "cellView": "form",
    "colab": {
     "base_uri": "https://localhost:8080/",
     "height": 156
    },
    "colab_type": "code",
    "id": "WZw_2_Ah5KWi",
    "outputId": "e9695cd3-9051-42a3-eb3a-b3381b1c1131"
   },
   "outputs": [
    {
     "data": {
      "text/plain": [
       "Weekly_Sales    2.779679e+07\n",
       "Holiday_Flag    1.000000e+00\n",
       "Temperature     1.009140e+03\n",
       "Fuel_Price      4.549000e+01\n",
       "CPI             1.700796e+03\n",
       "Unemployment    5.300100e+01\n",
       "Name: 4, dtype: float64"
      ]
     },
     "execution_count": 18,
     "metadata": {
      "tags": []
     },
     "output_type": "execute_result"
    }
   ],
   "source": [
    "#@title\n",
    "gb_store_q32012.sum().iloc[gb_store_q32012.sum()['Weekly_Sales'].argmax()]"
   ]
  },
  {
   "cell_type": "markdown",
   "metadata": {
    "colab_type": "text",
    "id": "-mk8_IRv5uSZ"
   },
   "source": [
    "Store 4 has Maximum sales in quarter 3 of 2012, and the value is **25652119.35**"
   ]
  },
  {
   "cell_type": "markdown",
   "metadata": {
    "colab_type": "text",
    "id": "PMjj-TruKKb4"
   },
   "source": [
    "### 4. Some holidays have a negative impact on sales. Find out holidays which have higher sales than the mean sales in non-holiday season for all stores together\n",
    "\n",
    "---\n",
    "\n"
   ]
  },
  {
   "cell_type": "code",
   "execution_count": 19,
   "metadata": {
    "colab": {
     "base_uri": "https://localhost:8080/",
     "height": 122
    },
    "colab_type": "code",
    "id": "0148GjNDZ-5s",
    "outputId": "394c7d9f-dbf5-479c-891f-12f9d899a808"
   },
   "outputs": [
    {
     "data": {
      "text/plain": [
       "Non holiday     6210\n",
       "Christmas         90\n",
       "Thanksgiving      90\n",
       "Labour Day        45\n",
       "Name: holiday, dtype: int64"
      ]
     },
     "execution_count": 19,
     "metadata": {
      "tags": []
     },
     "output_type": "execute_result"
    }
   ],
   "source": [
    "wallmart_data['holiday'].value_counts()"
   ]
  },
  {
   "cell_type": "code",
   "execution_count": 0,
   "metadata": {
    "colab": {},
    "colab_type": "code",
    "id": "56F7S9FJ5cqB"
   },
   "outputs": [],
   "source": [
    "mean_nonholiday = wallmart_data[wallmart_data['holiday'] == 'Non holiday']['Weekly_Sales'].mean()"
   ]
  },
  {
   "cell_type": "code",
   "execution_count": 0,
   "metadata": {
    "colab": {},
    "colab_type": "code",
    "id": "Sj_QF-N_DASD"
   },
   "outputs": [],
   "source": [
    "gb_holiday = wallmart_data.groupby('holiday')"
   ]
  },
  {
   "cell_type": "code",
   "execution_count": 22,
   "metadata": {
    "colab": {
     "base_uri": "https://localhost:8080/",
     "height": 139
    },
    "colab_type": "code",
    "id": "t7bIDXSuItE9",
    "outputId": "5a541ff9-60ee-4dc8-fed4-69dad425f2e8"
   },
   "outputs": [
    {
     "data": {
      "text/plain": [
       "holiday\n",
       "Christmas       9.608331e+05\n",
       "Labour Day      1.039183e+06\n",
       "Non holiday     1.042120e+06\n",
       "Thanksgiving    1.471273e+06\n",
       "Name: Weekly_Sales, dtype: float64"
      ]
     },
     "execution_count": 22,
     "metadata": {
      "tags": []
     },
     "output_type": "execute_result"
    }
   ],
   "source": [
    "gb_holiday.Weekly_Sales.mean()"
   ]
  },
  {
   "cell_type": "code",
   "execution_count": 0,
   "metadata": {
    "colab": {},
    "colab_type": "code",
    "id": "KN6bF213PTNl"
   },
   "outputs": [],
   "source": []
  },
  {
   "cell_type": "code",
   "execution_count": 23,
   "metadata": {
    "colab": {
     "base_uri": "https://localhost:8080/",
     "height": 71
    },
    "colab_type": "code",
    "id": "81e2AUMhRac7",
    "outputId": "2c8bd239-5f98-40dc-d0db-08917c66ce77"
   },
   "outputs": [
    {
     "data": {
      "text/plain": [
       "<matplotlib.axes._subplots.AxesSubplot at 0x7ff123cdd6a0>"
      ]
     },
     "execution_count": 23,
     "metadata": {
      "tags": []
     },
     "output_type": "execute_result"
    },
    {
     "data": {
      "image/png": "[encoded data removed]",
      "text/plain": [
       "<Figure size 720x720 with 1 Axes>"
      ]
     },
     "metadata": {
      "needs_background": "light",
      "tags": []
     },
     "output_type": "display_data"
    }
   ],
   "source": [
    "plt.figure(figsize=(10, 10))\n",
    "sns.lineplot( data=wallmart_data, y='Weekly_Sales', x=wallmart_data['holiday'])\n",
    "sns.lineplot( data=wallmart_data, y=mean_nonholiday, x=wallmart_data['holiday'])"
   ]
  },
  {
   "cell_type": "markdown",
   "metadata": {
    "colab_type": "text",
    "id": "M0HiCJqjlWBF"
   },
   "source": [
    "**Cristamas** holiday having **Negative impact** on Sales"
   ]
  },
  {
   "cell_type": "markdown",
   "metadata": {
    "colab_type": "text",
    "id": "C706_k8jKYDU"
   },
   "source": [
    "### 5. Provide a monthly and semester view of sales in units and give insights\n",
    "\n",
    "---\n",
    "\n"
   ]
  },
  {
   "cell_type": "code",
   "execution_count": 0,
   "metadata": {
    "colab": {},
    "colab_type": "code",
    "id": "gjlCjcoCa5F0"
   },
   "outputs": [],
   "source": [
    " wallmart_data['months'] = pd.to_datetime(wallmart_data['Date']).dt.strftime('%Y-%m')"
   ]
  },
  {
   "cell_type": "code",
   "execution_count": 25,
   "metadata": {
    "colab": {
     "base_uri": "https://localhost:8080/",
     "height": 1000
    },
    "colab_type": "code",
    "id": "Hnv1V1ya_m30",
    "outputId": "74172733-2f84-4a93-d45a-662e4871e9e7"
   },
   "outputs": [
    {
     "data": {
      "text/html": [
       "<div>\n",
       "<style scoped>\n",
       "    .dataframe tbody tr th:only-of-type {\n",
       "        vertical-align: middle;\n",
       "    }\n",
       "\n",
       "    .dataframe tbody tr th {\n",
       "        vertical-align: top;\n",
       "    }\n",
       "\n",
       "    .dataframe thead th {\n",
       "        text-align: right;\n",
       "    }\n",
       "</style>\n",
       "<table border=\"1\" class=\"dataframe\">\n",
       "  <thead>\n",
       "    <tr style=\"text-align: right;\">\n",
       "      <th></th>\n",
       "      <th>Store</th>\n",
       "      <th>Weekly_Sales</th>\n",
       "      <th>Holiday_Flag</th>\n",
       "      <th>Temperature</th>\n",
       "      <th>Fuel_Price</th>\n",
       "      <th>CPI</th>\n",
       "      <th>Unemployment</th>\n",
       "    </tr>\n",
       "    <tr>\n",
       "      <th>months</th>\n",
       "      <th></th>\n",
       "      <th></th>\n",
       "      <th></th>\n",
       "      <th></th>\n",
       "      <th></th>\n",
       "      <th></th>\n",
       "      <th></th>\n",
       "    </tr>\n",
       "  </thead>\n",
       "  <tbody>\n",
       "    <tr>\n",
       "      <th>2010-02</th>\n",
       "      <td>4140</td>\n",
       "      <td>1.903330e+08</td>\n",
       "      <td>45</td>\n",
       "      <td>6531.84</td>\n",
       "      <td>484.554</td>\n",
       "      <td>30210.202611</td>\n",
       "      <td>1551.476</td>\n",
       "    </tr>\n",
       "    <tr>\n",
       "      <th>2010-03</th>\n",
       "      <td>4140</td>\n",
       "      <td>1.819198e+08</td>\n",
       "      <td>0</td>\n",
       "      <td>8494.99</td>\n",
       "      <td>501.607</td>\n",
       "      <td>30227.552288</td>\n",
       "      <td>1551.476</td>\n",
       "    </tr>\n",
       "    <tr>\n",
       "      <th>2010-04</th>\n",
       "      <td>5175</td>\n",
       "      <td>2.314124e+08</td>\n",
       "      <td>0</td>\n",
       "      <td>12802.81</td>\n",
       "      <td>645.421</td>\n",
       "      <td>37727.648220</td>\n",
       "      <td>1911.985</td>\n",
       "    </tr>\n",
       "    <tr>\n",
       "      <th>2010-05</th>\n",
       "      <td>4140</td>\n",
       "      <td>1.867109e+08</td>\n",
       "      <td>0</td>\n",
       "      <td>11765.59</td>\n",
       "      <td>525.123</td>\n",
       "      <td>30175.516368</td>\n",
       "      <td>1529.588</td>\n",
       "    </tr>\n",
       "    <tr>\n",
       "      <th>2010-06</th>\n",
       "      <td>4140</td>\n",
       "      <td>1.922462e+08</td>\n",
       "      <td>0</td>\n",
       "      <td>13513.78</td>\n",
       "      <td>501.841</td>\n",
       "      <td>30240.843812</td>\n",
       "      <td>1529.588</td>\n",
       "    </tr>\n",
       "    <tr>\n",
       "      <th>2010-07</th>\n",
       "      <td>5175</td>\n",
       "      <td>2.325801e+08</td>\n",
       "      <td>0</td>\n",
       "      <td>17853.19</td>\n",
       "      <td>624.149</td>\n",
       "      <td>37800.367400</td>\n",
       "      <td>1896.430</td>\n",
       "    </tr>\n",
       "    <tr>\n",
       "      <th>2010-08</th>\n",
       "      <td>4140</td>\n",
       "      <td>1.876401e+08</td>\n",
       "      <td>0</td>\n",
       "      <td>14205.55</td>\n",
       "      <td>500.940</td>\n",
       "      <td>30278.139478</td>\n",
       "      <td>1517.144</td>\n",
       "    </tr>\n",
       "    <tr>\n",
       "      <th>2010-09</th>\n",
       "      <td>4140</td>\n",
       "      <td>1.772679e+08</td>\n",
       "      <td>45</td>\n",
       "      <td>13104.24</td>\n",
       "      <td>492.213</td>\n",
       "      <td>30285.904384</td>\n",
       "      <td>1517.144</td>\n",
       "    </tr>\n",
       "    <tr>\n",
       "      <th>2010-10</th>\n",
       "      <td>5175</td>\n",
       "      <td>2.171618e+08</td>\n",
       "      <td>0</td>\n",
       "      <td>13986.43</td>\n",
       "      <td>631.638</td>\n",
       "      <td>37902.074930</td>\n",
       "      <td>1906.940</td>\n",
       "    </tr>\n",
       "    <tr>\n",
       "      <th>2010-11</th>\n",
       "      <td>4140</td>\n",
       "      <td>2.028534e+08</td>\n",
       "      <td>45</td>\n",
       "      <td>8960.16</td>\n",
       "      <td>519.529</td>\n",
       "      <td>30348.262745</td>\n",
       "      <td>1525.552</td>\n",
       "    </tr>\n",
       "    <tr>\n",
       "      <th>2010-12</th>\n",
       "      <td>5175</td>\n",
       "      <td>2.887605e+08</td>\n",
       "      <td>45</td>\n",
       "      <td>8958.05</td>\n",
       "      <td>672.322</td>\n",
       "      <td>37903.335831</td>\n",
       "      <td>1906.940</td>\n",
       "    </tr>\n",
       "    <tr>\n",
       "      <th>2011-01</th>\n",
       "      <td>4140</td>\n",
       "      <td>1.637040e+08</td>\n",
       "      <td>0</td>\n",
       "      <td>6189.70</td>\n",
       "      <td>560.512</td>\n",
       "      <td>30382.527235</td>\n",
       "      <td>1492.416</td>\n",
       "    </tr>\n",
       "    <tr>\n",
       "      <th>2011-02</th>\n",
       "      <td>4140</td>\n",
       "      <td>1.863313e+08</td>\n",
       "      <td>45</td>\n",
       "      <td>6825.56</td>\n",
       "      <td>571.140</td>\n",
       "      <td>30526.206281</td>\n",
       "      <td>1492.416</td>\n",
       "    </tr>\n",
       "    <tr>\n",
       "      <th>2011-03</th>\n",
       "      <td>4140</td>\n",
       "      <td>1.793564e+08</td>\n",
       "      <td>0</td>\n",
       "      <td>8840.70</td>\n",
       "      <td>633.957</td>\n",
       "      <td>30658.299773</td>\n",
       "      <td>1492.416</td>\n",
       "    </tr>\n",
       "    <tr>\n",
       "      <th>2011-04</th>\n",
       "      <td>5175</td>\n",
       "      <td>2.265265e+08</td>\n",
       "      <td>0</td>\n",
       "      <td>12719.80</td>\n",
       "      <td>848.241</td>\n",
       "      <td>38475.181060</td>\n",
       "      <td>1833.780</td>\n",
       "    </tr>\n",
       "    <tr>\n",
       "      <th>2011-05</th>\n",
       "      <td>4140</td>\n",
       "      <td>1.816482e+08</td>\n",
       "      <td>0</td>\n",
       "      <td>11481.01</td>\n",
       "      <td>713.588</td>\n",
       "      <td>30847.859305</td>\n",
       "      <td>1467.024</td>\n",
       "    </tr>\n",
       "    <tr>\n",
       "      <th>2011-06</th>\n",
       "      <td>4140</td>\n",
       "      <td>1.897734e+08</td>\n",
       "      <td>0</td>\n",
       "      <td>13468.29</td>\n",
       "      <td>681.139</td>\n",
       "      <td>30820.821097</td>\n",
       "      <td>1467.024</td>\n",
       "    </tr>\n",
       "    <tr>\n",
       "      <th>2011-07</th>\n",
       "      <td>5175</td>\n",
       "      <td>2.299114e+08</td>\n",
       "      <td>0</td>\n",
       "      <td>18092.92</td>\n",
       "      <td>830.075</td>\n",
       "      <td>38603.820411</td>\n",
       "      <td>1821.935</td>\n",
       "    </tr>\n",
       "    <tr>\n",
       "      <th>2011-08</th>\n",
       "      <td>4140</td>\n",
       "      <td>1.885993e+08</td>\n",
       "      <td>0</td>\n",
       "      <td>14451.54</td>\n",
       "      <td>665.293</td>\n",
       "      <td>30941.069948</td>\n",
       "      <td>1457.548</td>\n",
       "    </tr>\n",
       "    <tr>\n",
       "      <th>2011-09</th>\n",
       "      <td>5175</td>\n",
       "      <td>2.208477e+08</td>\n",
       "      <td>45</td>\n",
       "      <td>16436.14</td>\n",
       "      <td>820.340</td>\n",
       "      <td>38757.204172</td>\n",
       "      <td>1821.935</td>\n",
       "    </tr>\n",
       "    <tr>\n",
       "      <th>2011-10</th>\n",
       "      <td>4140</td>\n",
       "      <td>1.832613e+08</td>\n",
       "      <td>0</td>\n",
       "      <td>10953.92</td>\n",
       "      <td>634.267</td>\n",
       "      <td>31123.737582</td>\n",
       "      <td>1404.760</td>\n",
       "    </tr>\n",
       "    <tr>\n",
       "      <th>2011-11</th>\n",
       "      <td>4140</td>\n",
       "      <td>2.101624e+08</td>\n",
       "      <td>45</td>\n",
       "      <td>9005.92</td>\n",
       "      <td>626.961</td>\n",
       "      <td>31186.531672</td>\n",
       "      <td>1404.760</td>\n",
       "    </tr>\n",
       "    <tr>\n",
       "      <th>2011-12</th>\n",
       "      <td>5175</td>\n",
       "      <td>2.880781e+08</td>\n",
       "      <td>45</td>\n",
       "      <td>9123.06</td>\n",
       "      <td>749.368</td>\n",
       "      <td>39093.716850</td>\n",
       "      <td>1755.950</td>\n",
       "    </tr>\n",
       "    <tr>\n",
       "      <th>2012-01</th>\n",
       "      <td>4140</td>\n",
       "      <td>1.688945e+08</td>\n",
       "      <td>0</td>\n",
       "      <td>7348.11</td>\n",
       "      <td>606.303</td>\n",
       "      <td>31368.178118</td>\n",
       "      <td>1351.500</td>\n",
       "    </tr>\n",
       "    <tr>\n",
       "      <th>2012-02</th>\n",
       "      <td>4140</td>\n",
       "      <td>1.920636e+08</td>\n",
       "      <td>45</td>\n",
       "      <td>7649.09</td>\n",
       "      <td>636.097</td>\n",
       "      <td>31431.302831</td>\n",
       "      <td>1351.500</td>\n",
       "    </tr>\n",
       "    <tr>\n",
       "      <th>2012-03</th>\n",
       "      <td>5175</td>\n",
       "      <td>2.315097e+08</td>\n",
       "      <td>0</td>\n",
       "      <td>11810.17</td>\n",
       "      <td>858.493</td>\n",
       "      <td>39406.847572</td>\n",
       "      <td>1689.375</td>\n",
       "    </tr>\n",
       "    <tr>\n",
       "      <th>2012-04</th>\n",
       "      <td>4140</td>\n",
       "      <td>1.889209e+08</td>\n",
       "      <td>0</td>\n",
       "      <td>10774.56</td>\n",
       "      <td>715.418</td>\n",
       "      <td>31589.395697</td>\n",
       "      <td>1335.516</td>\n",
       "    </tr>\n",
       "    <tr>\n",
       "      <th>2012-05</th>\n",
       "      <td>4140</td>\n",
       "      <td>1.887665e+08</td>\n",
       "      <td>0</td>\n",
       "      <td>12102.65</td>\n",
       "      <td>692.966</td>\n",
       "      <td>31610.778941</td>\n",
       "      <td>1335.516</td>\n",
       "    </tr>\n",
       "    <tr>\n",
       "      <th>2012-06</th>\n",
       "      <td>5175</td>\n",
       "      <td>2.406103e+08</td>\n",
       "      <td>0</td>\n",
       "      <td>17014.67</td>\n",
       "      <td>818.921</td>\n",
       "      <td>39510.849348</td>\n",
       "      <td>1669.395</td>\n",
       "    </tr>\n",
       "    <tr>\n",
       "      <th>2012-07</th>\n",
       "      <td>4140</td>\n",
       "      <td>1.875095e+08</td>\n",
       "      <td>0</td>\n",
       "      <td>14292.63</td>\n",
       "      <td>630.912</td>\n",
       "      <td>31620.093064</td>\n",
       "      <td>1302.720</td>\n",
       "    </tr>\n",
       "    <tr>\n",
       "      <th>2012-08</th>\n",
       "      <td>5175</td>\n",
       "      <td>2.368508e+08</td>\n",
       "      <td>0</td>\n",
       "      <td>17718.09</td>\n",
       "      <td>830.133</td>\n",
       "      <td>39549.392800</td>\n",
       "      <td>1628.400</td>\n",
       "    </tr>\n",
       "    <tr>\n",
       "      <th>2012-09</th>\n",
       "      <td>4140</td>\n",
       "      <td>1.806455e+08</td>\n",
       "      <td>45</td>\n",
       "      <td>12823.03</td>\n",
       "      <td>695.569</td>\n",
       "      <td>31713.337811</td>\n",
       "      <td>1302.720</td>\n",
       "    </tr>\n",
       "    <tr>\n",
       "      <th>2012-10</th>\n",
       "      <td>4140</td>\n",
       "      <td>1.843617e+08</td>\n",
       "      <td>0</td>\n",
       "      <td>11073.25</td>\n",
       "      <td>693.605</td>\n",
       "      <td>31789.964783</td>\n",
       "      <td>1251.668</td>\n",
       "    </tr>\n",
       "  </tbody>\n",
       "</table>\n",
       "</div>"
      ],
      "text/plain": [
       "         Store  Weekly_Sales  ...           CPI  Unemployment\n",
       "months                        ...                            \n",
       "2010-02   4140  1.903330e+08  ...  30210.202611      1551.476\n",
       "2010-03   4140  1.819198e+08  ...  30227.552288      1551.476\n",
       "2010-04   5175  2.314124e+08  ...  37727.648220      1911.985\n",
       "2010-05   4140  1.867109e+08  ...  30175.516368      1529.588\n",
       "2010-06   4140  1.922462e+08  ...  30240.843812      1529.588\n",
       "2010-07   5175  2.325801e+08  ...  37800.367400      1896.430\n",
       "2010-08   4140  1.876401e+08  ...  30278.139478      1517.144\n",
       "2010-09   4140  1.772679e+08  ...  30285.904384      1517.144\n",
       "2010-10   5175  2.171618e+08  ...  37902.074930      1906.940\n",
       "2010-11   4140  2.028534e+08  ...  30348.262745      1525.552\n",
       "2010-12   5175  2.887605e+08  ...  37903.335831      1906.940\n",
       "2011-01   4140  1.637040e+08  ...  30382.527235      1492.416\n",
       "2011-02   4140  1.863313e+08  ...  30526.206281      1492.416\n",
       "2011-03   4140  1.793564e+08  ...  30658.299773      1492.416\n",
       "2011-04   5175  2.265265e+08  ...  38475.181060      1833.780\n",
       "2011-05   4140  1.816482e+08  ...  30847.859305      1467.024\n",
       "2011-06   4140  1.897734e+08  ...  30820.821097      1467.024\n",
       "2011-07   5175  2.299114e+08  ...  38603.820411      1821.935\n",
       "2011-08   4140  1.885993e+08  ...  30941.069948      1457.548\n",
       "2011-09   5175  2.208477e+08  ...  38757.204172      1821.935\n",
       "2011-10   4140  1.832613e+08  ...  31123.737582      1404.760\n",
       "2011-11   4140  2.101624e+08  ...  31186.531672      1404.760\n",
       "2011-12   5175  2.880781e+08  ...  39093.716850      1755.950\n",
       "2012-01   4140  1.688945e+08  ...  31368.178118      1351.500\n",
       "2012-02   4140  1.920636e+08  ...  31431.302831      1351.500\n",
       "2012-03   5175  2.315097e+08  ...  39406.847572      1689.375\n",
       "2012-04   4140  1.889209e+08  ...  31589.395697      1335.516\n",
       "2012-05   4140  1.887665e+08  ...  31610.778941      1335.516\n",
       "2012-06   5175  2.406103e+08  ...  39510.849348      1669.395\n",
       "2012-07   4140  1.875095e+08  ...  31620.093064      1302.720\n",
       "2012-08   5175  2.368508e+08  ...  39549.392800      1628.400\n",
       "2012-09   4140  1.806455e+08  ...  31713.337811      1302.720\n",
       "2012-10   4140  1.843617e+08  ...  31789.964783      1251.668\n",
       "\n",
       "[33 rows x 7 columns]"
      ]
     },
     "execution_count": 25,
     "metadata": {
      "tags": []
     },
     "output_type": "execute_result"
    }
   ],
   "source": [
    "wallmart_data.groupby('months').sum()"
   ]
  },
  {
   "cell_type": "code",
   "execution_count": 0,
   "metadata": {
    "colab": {},
    "colab_type": "code",
    "id": "DYXSl6ZD3sZO"
   },
   "outputs": [],
   "source": [
    "def add_semester_column(quarter):\n",
    "  if quarter <=2:\n",
    "    return 1\n",
    "  return 2"
   ]
  },
  {
   "cell_type": "code",
   "execution_count": 0,
   "metadata": {
    "colab": {},
    "colab_type": "code",
    "id": "LccGhOuFAnzl"
   },
   "outputs": [],
   "source": [
    "wallmart_data['semister'] = pd.to_datetime(wallmart_data['Date'], format='%Y-%m-%d').dt.quarter.apply(add_semester_column)"
   ]
  },
  {
   "cell_type": "code",
   "execution_count": 28,
   "metadata": {
    "colab": {
     "base_uri": "https://localhost:8080/",
     "height": 1000
    },
    "colab_type": "code",
    "id": "bh7-2nv3H0SG",
    "outputId": "0caf6be5-9ddf-4b35-bf59-f017a495714d"
   },
   "outputs": [
    {
     "data": {
      "text/html": [
       "<div>\n",
       "<style scoped>\n",
       "    .dataframe tbody tr th:only-of-type {\n",
       "        vertical-align: middle;\n",
       "    }\n",
       "\n",
       "    .dataframe tbody tr th {\n",
       "        vertical-align: top;\n",
       "    }\n",
       "\n",
       "    .dataframe thead th {\n",
       "        text-align: right;\n",
       "    }\n",
       "</style>\n",
       "<table border=\"1\" class=\"dataframe\">\n",
       "  <thead>\n",
       "    <tr style=\"text-align: right;\">\n",
       "      <th></th>\n",
       "      <th></th>\n",
       "      <th>Store</th>\n",
       "      <th>Weekly_Sales</th>\n",
       "      <th>Holiday_Flag</th>\n",
       "      <th>Temperature</th>\n",
       "      <th>Fuel_Price</th>\n",
       "      <th>CPI</th>\n",
       "      <th>Unemployment</th>\n",
       "    </tr>\n",
       "    <tr>\n",
       "      <th>semister</th>\n",
       "      <th>months</th>\n",
       "      <th></th>\n",
       "      <th></th>\n",
       "      <th></th>\n",
       "      <th></th>\n",
       "      <th></th>\n",
       "      <th></th>\n",
       "      <th></th>\n",
       "    </tr>\n",
       "  </thead>\n",
       "  <tbody>\n",
       "    <tr>\n",
       "      <th rowspan=\"17\" valign=\"top\">1</th>\n",
       "      <th>2010-02</th>\n",
       "      <td>4140</td>\n",
       "      <td>1.903330e+08</td>\n",
       "      <td>45</td>\n",
       "      <td>6531.84</td>\n",
       "      <td>484.554</td>\n",
       "      <td>30210.202611</td>\n",
       "      <td>1551.476</td>\n",
       "    </tr>\n",
       "    <tr>\n",
       "      <th>2010-03</th>\n",
       "      <td>4140</td>\n",
       "      <td>1.819198e+08</td>\n",
       "      <td>0</td>\n",
       "      <td>8494.99</td>\n",
       "      <td>501.607</td>\n",
       "      <td>30227.552288</td>\n",
       "      <td>1551.476</td>\n",
       "    </tr>\n",
       "    <tr>\n",
       "      <th>2010-04</th>\n",
       "      <td>5175</td>\n",
       "      <td>2.314124e+08</td>\n",
       "      <td>0</td>\n",
       "      <td>12802.81</td>\n",
       "      <td>645.421</td>\n",
       "      <td>37727.648220</td>\n",
       "      <td>1911.985</td>\n",
       "    </tr>\n",
       "    <tr>\n",
       "      <th>2010-05</th>\n",
       "      <td>4140</td>\n",
       "      <td>1.867109e+08</td>\n",
       "      <td>0</td>\n",
       "      <td>11765.59</td>\n",
       "      <td>525.123</td>\n",
       "      <td>30175.516368</td>\n",
       "      <td>1529.588</td>\n",
       "    </tr>\n",
       "    <tr>\n",
       "      <th>2010-06</th>\n",
       "      <td>4140</td>\n",
       "      <td>1.922462e+08</td>\n",
       "      <td>0</td>\n",
       "      <td>13513.78</td>\n",
       "      <td>501.841</td>\n",
       "      <td>30240.843812</td>\n",
       "      <td>1529.588</td>\n",
       "    </tr>\n",
       "    <tr>\n",
       "      <th>2011-01</th>\n",
       "      <td>4140</td>\n",
       "      <td>1.637040e+08</td>\n",
       "      <td>0</td>\n",
       "      <td>6189.70</td>\n",
       "      <td>560.512</td>\n",
       "      <td>30382.527235</td>\n",
       "      <td>1492.416</td>\n",
       "    </tr>\n",
       "    <tr>\n",
       "      <th>2011-02</th>\n",
       "      <td>4140</td>\n",
       "      <td>1.863313e+08</td>\n",
       "      <td>45</td>\n",
       "      <td>6825.56</td>\n",
       "      <td>571.140</td>\n",
       "      <td>30526.206281</td>\n",
       "      <td>1492.416</td>\n",
       "    </tr>\n",
       "    <tr>\n",
       "      <th>2011-03</th>\n",
       "      <td>4140</td>\n",
       "      <td>1.793564e+08</td>\n",
       "      <td>0</td>\n",
       "      <td>8840.70</td>\n",
       "      <td>633.957</td>\n",
       "      <td>30658.299773</td>\n",
       "      <td>1492.416</td>\n",
       "    </tr>\n",
       "    <tr>\n",
       "      <th>2011-04</th>\n",
       "      <td>5175</td>\n",
       "      <td>2.265265e+08</td>\n",
       "      <td>0</td>\n",
       "      <td>12719.80</td>\n",
       "      <td>848.241</td>\n",
       "      <td>38475.181060</td>\n",
       "      <td>1833.780</td>\n",
       "    </tr>\n",
       "    <tr>\n",
       "      <th>2011-05</th>\n",
       "      <td>4140</td>\n",
       "      <td>1.816482e+08</td>\n",
       "      <td>0</td>\n",
       "      <td>11481.01</td>\n",
       "      <td>713.588</td>\n",
       "      <td>30847.859305</td>\n",
       "      <td>1467.024</td>\n",
       "    </tr>\n",
       "    <tr>\n",
       "      <th>2011-06</th>\n",
       "      <td>4140</td>\n",
       "      <td>1.897734e+08</td>\n",
       "      <td>0</td>\n",
       "      <td>13468.29</td>\n",
       "      <td>681.139</td>\n",
       "      <td>30820.821097</td>\n",
       "      <td>1467.024</td>\n",
       "    </tr>\n",
       "    <tr>\n",
       "      <th>2012-01</th>\n",
       "      <td>4140</td>\n",
       "      <td>1.688945e+08</td>\n",
       "      <td>0</td>\n",
       "      <td>7348.11</td>\n",
       "      <td>606.303</td>\n",
       "      <td>31368.178118</td>\n",
       "      <td>1351.500</td>\n",
       "    </tr>\n",
       "    <tr>\n",
       "      <th>2012-02</th>\n",
       "      <td>4140</td>\n",
       "      <td>1.920636e+08</td>\n",
       "      <td>45</td>\n",
       "      <td>7649.09</td>\n",
       "      <td>636.097</td>\n",
       "      <td>31431.302831</td>\n",
       "      <td>1351.500</td>\n",
       "    </tr>\n",
       "    <tr>\n",
       "      <th>2012-03</th>\n",
       "      <td>5175</td>\n",
       "      <td>2.315097e+08</td>\n",
       "      <td>0</td>\n",
       "      <td>11810.17</td>\n",
       "      <td>858.493</td>\n",
       "      <td>39406.847572</td>\n",
       "      <td>1689.375</td>\n",
       "    </tr>\n",
       "    <tr>\n",
       "      <th>2012-04</th>\n",
       "      <td>4140</td>\n",
       "      <td>1.889209e+08</td>\n",
       "      <td>0</td>\n",
       "      <td>10774.56</td>\n",
       "      <td>715.418</td>\n",
       "      <td>31589.395697</td>\n",
       "      <td>1335.516</td>\n",
       "    </tr>\n",
       "    <tr>\n",
       "      <th>2012-05</th>\n",
       "      <td>4140</td>\n",
       "      <td>1.887665e+08</td>\n",
       "      <td>0</td>\n",
       "      <td>12102.65</td>\n",
       "      <td>692.966</td>\n",
       "      <td>31610.778941</td>\n",
       "      <td>1335.516</td>\n",
       "    </tr>\n",
       "    <tr>\n",
       "      <th>2012-06</th>\n",
       "      <td>5175</td>\n",
       "      <td>2.406103e+08</td>\n",
       "      <td>0</td>\n",
       "      <td>17014.67</td>\n",
       "      <td>818.921</td>\n",
       "      <td>39510.849348</td>\n",
       "      <td>1669.395</td>\n",
       "    </tr>\n",
       "    <tr>\n",
       "      <th rowspan=\"16\" valign=\"top\">2</th>\n",
       "      <th>2010-07</th>\n",
       "      <td>5175</td>\n",
       "      <td>2.325801e+08</td>\n",
       "      <td>0</td>\n",
       "      <td>17853.19</td>\n",
       "      <td>624.149</td>\n",
       "      <td>37800.367400</td>\n",
       "      <td>1896.430</td>\n",
       "    </tr>\n",
       "    <tr>\n",
       "      <th>2010-08</th>\n",
       "      <td>4140</td>\n",
       "      <td>1.876401e+08</td>\n",
       "      <td>0</td>\n",
       "      <td>14205.55</td>\n",
       "      <td>500.940</td>\n",
       "      <td>30278.139478</td>\n",
       "      <td>1517.144</td>\n",
       "    </tr>\n",
       "    <tr>\n",
       "      <th>2010-09</th>\n",
       "      <td>4140</td>\n",
       "      <td>1.772679e+08</td>\n",
       "      <td>45</td>\n",
       "      <td>13104.24</td>\n",
       "      <td>492.213</td>\n",
       "      <td>30285.904384</td>\n",
       "      <td>1517.144</td>\n",
       "    </tr>\n",
       "    <tr>\n",
       "      <th>2010-10</th>\n",
       "      <td>5175</td>\n",
       "      <td>2.171618e+08</td>\n",
       "      <td>0</td>\n",
       "      <td>13986.43</td>\n",
       "      <td>631.638</td>\n",
       "      <td>37902.074930</td>\n",
       "      <td>1906.940</td>\n",
       "    </tr>\n",
       "    <tr>\n",
       "      <th>2010-11</th>\n",
       "      <td>4140</td>\n",
       "      <td>2.028534e+08</td>\n",
       "      <td>45</td>\n",
       "      <td>8960.16</td>\n",
       "      <td>519.529</td>\n",
       "      <td>30348.262745</td>\n",
       "      <td>1525.552</td>\n",
       "    </tr>\n",
       "    <tr>\n",
       "      <th>2010-12</th>\n",
       "      <td>5175</td>\n",
       "      <td>2.887605e+08</td>\n",
       "      <td>45</td>\n",
       "      <td>8958.05</td>\n",
       "      <td>672.322</td>\n",
       "      <td>37903.335831</td>\n",
       "      <td>1906.940</td>\n",
       "    </tr>\n",
       "    <tr>\n",
       "      <th>2011-07</th>\n",
       "      <td>5175</td>\n",
       "      <td>2.299114e+08</td>\n",
       "      <td>0</td>\n",
       "      <td>18092.92</td>\n",
       "      <td>830.075</td>\n",
       "      <td>38603.820411</td>\n",
       "      <td>1821.935</td>\n",
       "    </tr>\n",
       "    <tr>\n",
       "      <th>2011-08</th>\n",
       "      <td>4140</td>\n",
       "      <td>1.885993e+08</td>\n",
       "      <td>0</td>\n",
       "      <td>14451.54</td>\n",
       "      <td>665.293</td>\n",
       "      <td>30941.069948</td>\n",
       "      <td>1457.548</td>\n",
       "    </tr>\n",
       "    <tr>\n",
       "      <th>2011-09</th>\n",
       "      <td>5175</td>\n",
       "      <td>2.208477e+08</td>\n",
       "      <td>45</td>\n",
       "      <td>16436.14</td>\n",
       "      <td>820.340</td>\n",
       "      <td>38757.204172</td>\n",
       "      <td>1821.935</td>\n",
       "    </tr>\n",
       "    <tr>\n",
       "      <th>2011-10</th>\n",
       "      <td>4140</td>\n",
       "      <td>1.832613e+08</td>\n",
       "      <td>0</td>\n",
       "      <td>10953.92</td>\n",
       "      <td>634.267</td>\n",
       "      <td>31123.737582</td>\n",
       "      <td>1404.760</td>\n",
       "    </tr>\n",
       "    <tr>\n",
       "      <th>2011-11</th>\n",
       "      <td>4140</td>\n",
       "      <td>2.101624e+08</td>\n",
       "      <td>45</td>\n",
       "      <td>9005.92</td>\n",
       "      <td>626.961</td>\n",
       "      <td>31186.531672</td>\n",
       "      <td>1404.760</td>\n",
       "    </tr>\n",
       "    <tr>\n",
       "      <th>2011-12</th>\n",
       "      <td>5175</td>\n",
       "      <td>2.880781e+08</td>\n",
       "      <td>45</td>\n",
       "      <td>9123.06</td>\n",
       "      <td>749.368</td>\n",
       "      <td>39093.716850</td>\n",
       "      <td>1755.950</td>\n",
       "    </tr>\n",
       "    <tr>\n",
       "      <th>2012-07</th>\n",
       "      <td>4140</td>\n",
       "      <td>1.875095e+08</td>\n",
       "      <td>0</td>\n",
       "      <td>14292.63</td>\n",
       "      <td>630.912</td>\n",
       "      <td>31620.093064</td>\n",
       "      <td>1302.720</td>\n",
       "    </tr>\n",
       "    <tr>\n",
       "      <th>2012-08</th>\n",
       "      <td>5175</td>\n",
       "      <td>2.368508e+08</td>\n",
       "      <td>0</td>\n",
       "      <td>17718.09</td>\n",
       "      <td>830.133</td>\n",
       "      <td>39549.392800</td>\n",
       "      <td>1628.400</td>\n",
       "    </tr>\n",
       "    <tr>\n",
       "      <th>2012-09</th>\n",
       "      <td>4140</td>\n",
       "      <td>1.806455e+08</td>\n",
       "      <td>45</td>\n",
       "      <td>12823.03</td>\n",
       "      <td>695.569</td>\n",
       "      <td>31713.337811</td>\n",
       "      <td>1302.720</td>\n",
       "    </tr>\n",
       "    <tr>\n",
       "      <th>2012-10</th>\n",
       "      <td>4140</td>\n",
       "      <td>1.843617e+08</td>\n",
       "      <td>0</td>\n",
       "      <td>11073.25</td>\n",
       "      <td>693.605</td>\n",
       "      <td>31789.964783</td>\n",
       "      <td>1251.668</td>\n",
       "    </tr>\n",
       "  </tbody>\n",
       "</table>\n",
       "</div>"
      ],
      "text/plain": [
       "                  Store  Weekly_Sales  ...           CPI  Unemployment\n",
       "semister months                        ...                            \n",
       "1        2010-02   4140  1.903330e+08  ...  30210.202611      1551.476\n",
       "         2010-03   4140  1.819198e+08  ...  30227.552288      1551.476\n",
       "         2010-04   5175  2.314124e+08  ...  37727.648220      1911.985\n",
       "         2010-05   4140  1.867109e+08  ...  30175.516368      1529.588\n",
       "         2010-06   4140  1.922462e+08  ...  30240.843812      1529.588\n",
       "         2011-01   4140  1.637040e+08  ...  30382.527235      1492.416\n",
       "         2011-02   4140  1.863313e+08  ...  30526.206281      1492.416\n",
       "         2011-03   4140  1.793564e+08  ...  30658.299773      1492.416\n",
       "         2011-04   5175  2.265265e+08  ...  38475.181060      1833.780\n",
       "         2011-05   4140  1.816482e+08  ...  30847.859305      1467.024\n",
       "         2011-06   4140  1.897734e+08  ...  30820.821097      1467.024\n",
       "         2012-01   4140  1.688945e+08  ...  31368.178118      1351.500\n",
       "         2012-02   4140  1.920636e+08  ...  31431.302831      1351.500\n",
       "         2012-03   5175  2.315097e+08  ...  39406.847572      1689.375\n",
       "         2012-04   4140  1.889209e+08  ...  31589.395697      1335.516\n",
       "         2012-05   4140  1.887665e+08  ...  31610.778941      1335.516\n",
       "         2012-06   5175  2.406103e+08  ...  39510.849348      1669.395\n",
       "2        2010-07   5175  2.325801e+08  ...  37800.367400      1896.430\n",
       "         2010-08   4140  1.876401e+08  ...  30278.139478      1517.144\n",
       "         2010-09   4140  1.772679e+08  ...  30285.904384      1517.144\n",
       "         2010-10   5175  2.171618e+08  ...  37902.074930      1906.940\n",
       "         2010-11   4140  2.028534e+08  ...  30348.262745      1525.552\n",
       "         2010-12   5175  2.887605e+08  ...  37903.335831      1906.940\n",
       "         2011-07   5175  2.299114e+08  ...  38603.820411      1821.935\n",
       "         2011-08   4140  1.885993e+08  ...  30941.069948      1457.548\n",
       "         2011-09   5175  2.208477e+08  ...  38757.204172      1821.935\n",
       "         2011-10   4140  1.832613e+08  ...  31123.737582      1404.760\n",
       "         2011-11   4140  2.101624e+08  ...  31186.531672      1404.760\n",
       "         2011-12   5175  2.880781e+08  ...  39093.716850      1755.950\n",
       "         2012-07   4140  1.875095e+08  ...  31620.093064      1302.720\n",
       "         2012-08   5175  2.368508e+08  ...  39549.392800      1628.400\n",
       "         2012-09   4140  1.806455e+08  ...  31713.337811      1302.720\n",
       "         2012-10   4140  1.843617e+08  ...  31789.964783      1251.668\n",
       "\n",
       "[33 rows x 7 columns]"
      ]
     },
     "execution_count": 28,
     "metadata": {
      "tags": []
     },
     "output_type": "execute_result"
    }
   ],
   "source": [
    "wallmart_data.groupby(['semister', 'months']).sum()"
   ]
  },
  {
   "cell_type": "code",
   "execution_count": 29,
   "metadata": {
    "colab": {
     "base_uri": "https://localhost:8080/",
     "height": 309
    },
    "colab_type": "code",
    "id": "zR_8CBYWEA6O",
    "outputId": "9e4eb021-b171-4fb9-9c78-1eef775e9577"
   },
   "outputs": [
    {
     "data": {
      "text/html": [
       "<div>\n",
       "<style scoped>\n",
       "    .dataframe tbody tr th:only-of-type {\n",
       "        vertical-align: middle;\n",
       "    }\n",
       "\n",
       "    .dataframe tbody tr th {\n",
       "        vertical-align: top;\n",
       "    }\n",
       "\n",
       "    .dataframe thead th {\n",
       "        text-align: right;\n",
       "    }\n",
       "</style>\n",
       "<table border=\"1\" class=\"dataframe\">\n",
       "  <thead>\n",
       "    <tr style=\"text-align: right;\">\n",
       "      <th></th>\n",
       "      <th>Store</th>\n",
       "      <th>Date</th>\n",
       "      <th>Weekly_Sales</th>\n",
       "      <th>Holiday_Flag</th>\n",
       "      <th>Temperature</th>\n",
       "      <th>Fuel_Price</th>\n",
       "      <th>CPI</th>\n",
       "      <th>Unemployment</th>\n",
       "      <th>holiday</th>\n",
       "      <th>months</th>\n",
       "      <th>semister</th>\n",
       "    </tr>\n",
       "  </thead>\n",
       "  <tbody>\n",
       "    <tr>\n",
       "      <th>0</th>\n",
       "      <td>1</td>\n",
       "      <td>2010-02-05</td>\n",
       "      <td>1643690.90</td>\n",
       "      <td>0</td>\n",
       "      <td>42.31</td>\n",
       "      <td>2.572</td>\n",
       "      <td>211.096358</td>\n",
       "      <td>8.106</td>\n",
       "      <td>Non holiday</td>\n",
       "      <td>2010-02</td>\n",
       "      <td>1</td>\n",
       "    </tr>\n",
       "    <tr>\n",
       "      <th>1</th>\n",
       "      <td>10</td>\n",
       "      <td>2010-02-05</td>\n",
       "      <td>2193048.75</td>\n",
       "      <td>0</td>\n",
       "      <td>54.34</td>\n",
       "      <td>2.962</td>\n",
       "      <td>126.442065</td>\n",
       "      <td>9.765</td>\n",
       "      <td>Non holiday</td>\n",
       "      <td>2010-02</td>\n",
       "      <td>1</td>\n",
       "    </tr>\n",
       "    <tr>\n",
       "      <th>2</th>\n",
       "      <td>37</td>\n",
       "      <td>2010-02-05</td>\n",
       "      <td>536006.73</td>\n",
       "      <td>0</td>\n",
       "      <td>45.97</td>\n",
       "      <td>2.572</td>\n",
       "      <td>209.852966</td>\n",
       "      <td>8.554</td>\n",
       "      <td>Non holiday</td>\n",
       "      <td>2010-02</td>\n",
       "      <td>1</td>\n",
       "    </tr>\n",
       "    <tr>\n",
       "      <th>3</th>\n",
       "      <td>17</td>\n",
       "      <td>2010-02-05</td>\n",
       "      <td>789036.02</td>\n",
       "      <td>0</td>\n",
       "      <td>23.11</td>\n",
       "      <td>2.666</td>\n",
       "      <td>126.442065</td>\n",
       "      <td>6.548</td>\n",
       "      <td>Non holiday</td>\n",
       "      <td>2010-02</td>\n",
       "      <td>1</td>\n",
       "    </tr>\n",
       "    <tr>\n",
       "      <th>4</th>\n",
       "      <td>30</td>\n",
       "      <td>2010-02-05</td>\n",
       "      <td>465108.52</td>\n",
       "      <td>0</td>\n",
       "      <td>39.05</td>\n",
       "      <td>2.572</td>\n",
       "      <td>210.752605</td>\n",
       "      <td>8.324</td>\n",
       "      <td>Non holiday</td>\n",
       "      <td>2010-02</td>\n",
       "      <td>1</td>\n",
       "    </tr>\n",
       "  </tbody>\n",
       "</table>\n",
       "</div>"
      ],
      "text/plain": [
       "   Store       Date  Weekly_Sales  ...      holiday   months  semister\n",
       "0      1 2010-02-05    1643690.90  ...  Non holiday  2010-02         1\n",
       "1     10 2010-02-05    2193048.75  ...  Non holiday  2010-02         1\n",
       "2     37 2010-02-05     536006.73  ...  Non holiday  2010-02         1\n",
       "3     17 2010-02-05     789036.02  ...  Non holiday  2010-02         1\n",
       "4     30 2010-02-05     465108.52  ...  Non holiday  2010-02         1\n",
       "\n",
       "[5 rows x 11 columns]"
      ]
     },
     "execution_count": 29,
     "metadata": {
      "tags": []
     },
     "output_type": "execute_result"
    }
   ],
   "source": [
    "wallmart_data.head()"
   ]
  },
  {
   "cell_type": "code",
   "execution_count": 0,
   "metadata": {
    "colab": {},
    "colab_type": "code",
    "id": "JbCniMyvjzpb"
   },
   "outputs": [],
   "source": [
    "corr_data = wallmart_data.corr()"
   ]
  },
  {
   "cell_type": "code",
   "execution_count": 31,
   "metadata": {
    "colab": {
     "base_uri": "https://localhost:8080/",
     "height": 71
    },
    "colab_type": "code",
    "id": "90Xa7QTWj9nv",
    "outputId": "e6e0e02b-2e95-42f0-8673-8b8467b5676c"
   },
   "outputs": [
    {
     "data": {
      "text/plain": [
       "<matplotlib.axes._subplots.AxesSubplot at 0x7ff123cf2ba8>"
      ]
     },
     "execution_count": 31,
     "metadata": {
      "tags": []
     },
     "output_type": "execute_result"
    },
    {
     "data": {
      "image/png": "[encoded data removed]",
      "text/plain": [
       "<Figure size 864x720 with 2 Axes>"
      ]
     },
     "metadata": {
      "needs_background": "light",
      "tags": []
     },
     "output_type": "display_data"
    }
   ],
   "source": [
    "plt.figure(figsize=(12, 10))\n",
    "sns.heatmap(corr_data, annot=True, cmap='viridis')"
   ]
  },
  {
   "cell_type": "code",
   "execution_count": 32,
   "metadata": {
    "colab": {
     "base_uri": "https://localhost:8080/",
     "height": 71
    },
    "colab_type": "code",
    "id": "qYrwwDAOkJv3",
    "outputId": "cacae97a-1593-4f55-b1f8-3269f9d68784"
   },
   "outputs": [
    {
     "data": {
      "text/plain": [
       "<matplotlib.axes._subplots.AxesSubplot at 0x7ff12ef44438>"
      ]
     },
     "execution_count": 32,
     "metadata": {
      "tags": []
     },
     "output_type": "execute_result"
    },
    {
     "data": {
      "image/png": "[encoded data removed]",
      "text/plain": [
       "<Figure size 432x288 with 1 Axes>"
      ]
     },
     "metadata": {
      "needs_background": "light",
      "tags": []
     },
     "output_type": "display_data"
    }
   ],
   "source": [
    "sns.distplot(wallmart_data['Weekly_Sales'], bins=30)"
   ]
  },
  {
   "cell_type": "markdown",
   "metadata": {
    "colab_type": "text",
    "id": "iPZSScCvKsj6"
   },
   "source": [
    "### 6. For Store 1 – Build prediction models to forecast demand\n",
    "\n",
    "---\n",
    "\n"
   ]
  },
  {
   "cell_type": "code",
   "execution_count": 0,
   "metadata": {
    "colab": {},
    "colab_type": "code",
    "id": "fJ1r0H07kvpg"
   },
   "outputs": [],
   "source": [
    "data_store1 = wallmart_data[wallmart_data['Store']==1].loc[:,['Date', 'Weekly_Sales']]"
   ]
  },
  {
   "cell_type": "code",
   "execution_count": 34,
   "metadata": {
    "colab": {
     "base_uri": "https://localhost:8080/",
     "height": 308
    },
    "colab_type": "code",
    "id": "jedrK2-G9F3D",
    "outputId": "0c609538-937d-4141-adff-81c1dcbce203"
   },
   "outputs": [
    {
     "data": {
      "text/plain": [
       "<matplotlib.axes._subplots.AxesSubplot at 0x7ff11fa547f0>"
      ]
     },
     "execution_count": 34,
     "metadata": {
      "tags": []
     },
     "output_type": "execute_result"
    },
    {
     "data": {
      "image/png": "[encoded data removed]",
      "text/plain": [
       "<Figure size 432x288 with 1 Axes>"
      ]
     },
     "metadata": {
      "needs_background": "light",
      "tags": []
     },
     "output_type": "display_data"
    }
   ],
   "source": [
    "sns.distplot(data_store1['Weekly_Sales'], bins=30)"
   ]
  },
  {
   "cell_type": "code",
   "execution_count": 35,
   "metadata": {
    "colab": {
     "base_uri": "https://localhost:8080/",
     "height": 204
    },
    "colab_type": "code",
    "id": "OfYwqvI-9lSf",
    "outputId": "387efc21-d56d-4949-9988-653aa3de4f23"
   },
   "outputs": [
    {
     "data": {
      "text/html": [
       "<div>\n",
       "<style scoped>\n",
       "    .dataframe tbody tr th:only-of-type {\n",
       "        vertical-align: middle;\n",
       "    }\n",
       "\n",
       "    .dataframe tbody tr th {\n",
       "        vertical-align: top;\n",
       "    }\n",
       "\n",
       "    .dataframe thead th {\n",
       "        text-align: right;\n",
       "    }\n",
       "</style>\n",
       "<table border=\"1\" class=\"dataframe\">\n",
       "  <thead>\n",
       "    <tr style=\"text-align: right;\">\n",
       "      <th></th>\n",
       "      <th>Date</th>\n",
       "      <th>Weekly_Sales</th>\n",
       "    </tr>\n",
       "  </thead>\n",
       "  <tbody>\n",
       "    <tr>\n",
       "      <th>0</th>\n",
       "      <td>2010-02-05</td>\n",
       "      <td>1643690.90</td>\n",
       "    </tr>\n",
       "    <tr>\n",
       "      <th>59</th>\n",
       "      <td>2010-02-12</td>\n",
       "      <td>1641957.44</td>\n",
       "    </tr>\n",
       "    <tr>\n",
       "      <th>116</th>\n",
       "      <td>2010-02-19</td>\n",
       "      <td>1611968.17</td>\n",
       "    </tr>\n",
       "    <tr>\n",
       "      <th>174</th>\n",
       "      <td>2010-02-26</td>\n",
       "      <td>1409727.59</td>\n",
       "    </tr>\n",
       "    <tr>\n",
       "      <th>182</th>\n",
       "      <td>2010-03-05</td>\n",
       "      <td>1554806.68</td>\n",
       "    </tr>\n",
       "  </tbody>\n",
       "</table>\n",
       "</div>"
      ],
      "text/plain": [
       "          Date  Weekly_Sales\n",
       "0   2010-02-05    1643690.90\n",
       "59  2010-02-12    1641957.44\n",
       "116 2010-02-19    1611968.17\n",
       "174 2010-02-26    1409727.59\n",
       "182 2010-03-05    1554806.68"
      ]
     },
     "execution_count": 35,
     "metadata": {
      "tags": []
     },
     "output_type": "execute_result"
    }
   ],
   "source": [
    "data_store1.head()"
   ]
  },
  {
   "cell_type": "code",
   "execution_count": 0,
   "metadata": {
    "colab": {},
    "colab_type": "code",
    "id": "heK6SYL7_K2d"
   },
   "outputs": [],
   "source": [
    "#data_store1['Date'] = pd.to_datetime(data_store1['Date'])"
   ]
  },
  {
   "cell_type": "code",
   "execution_count": 0,
   "metadata": {
    "colab": {},
    "colab_type": "code",
    "id": "YGvg5lNan10n"
   },
   "outputs": [],
   "source": []
  },
  {
   "cell_type": "code",
   "execution_count": 0,
   "metadata": {
    "colab": {},
    "colab_type": "code",
    "id": "LZtRzLj2Oj_q"
   },
   "outputs": [],
   "source": [
    "modified_data_store1 = data_store1['Weekly_Sales'].diff(periods=1)\n",
    "modified_data_store1.index = data_store1['Date']\n",
    "modified_data_store1.dropna(inplace=True)"
   ]
  },
  {
   "cell_type": "code",
   "execution_count": 38,
   "metadata": {
    "colab": {
     "base_uri": "https://localhost:8080/",
     "height": 238
    },
    "colab_type": "code",
    "id": "Jmys0GW8hHN3",
    "outputId": "107d8637-e54e-4bc0-8c11-253c086f00b3"
   },
   "outputs": [
    {
     "data": {
      "text/plain": [
       "Date\n",
       "2010-02-12     -1733.46\n",
       "2010-02-19    -29989.27\n",
       "2010-02-26   -202240.58\n",
       "2010-03-05    145079.09\n",
       "2010-03-12   -115265.09\n",
       "                ...    \n",
       "2012-09-28    -69066.80\n",
       "2012-10-05    233726.71\n",
       "2012-10-12    -97713.16\n",
       "2012-10-19    -65004.04\n",
       "2012-10-26    -14409.03\n",
       "Name: Weekly_Sales, Length: 142, dtype: float64"
      ]
     },
     "execution_count": 38,
     "metadata": {
      "tags": []
     },
     "output_type": "execute_result"
    }
   ],
   "source": [
    "modified_data_store1"
   ]
  },
  {
   "cell_type": "code",
   "execution_count": 0,
   "metadata": {
    "colab": {},
    "colab_type": "code",
    "id": "uKWtzu54n-Rz"
   },
   "outputs": [],
   "source": []
  },
  {
   "cell_type": "code",
   "execution_count": 39,
   "metadata": {
    "colab": {
     "base_uri": "https://localhost:8080/",
     "height": 619
    },
    "colab_type": "code",
    "id": "MpcAzQU0qM-D",
    "outputId": "a13a31e3-41ce-4eb4-e0ed-a30af4e44035"
   },
   "outputs": [
    {
     "data": {
      "text/plain": [
       "[<matplotlib.lines.Line2D at 0x7ff11f9a8c18>]"
      ]
     },
     "execution_count": 39,
     "metadata": {
      "tags": []
     },
     "output_type": "execute_result"
    },
    {
     "data": {
      "image/png": "[encoded data removed]",
      "text/plain": [
       "<Figure size 720x720 with 1 Axes>"
      ]
     },
     "metadata": {
      "needs_background": "light",
      "tags": []
     },
     "output_type": "display_data"
    }
   ],
   "source": [
    "plt.figure(figsize=(10, 10))\n",
    "plt.plot(modified_data_store1)"
   ]
  },
  {
   "cell_type": "code",
   "execution_count": 0,
   "metadata": {
    "colab": {},
    "colab_type": "code",
    "id": "kWxCvjKLrR2s"
   },
   "outputs": [],
   "source": [
    "from statsmodels.tsa.arima_model import ARIMA"
   ]
  },
  {
   "cell_type": "code",
   "execution_count": 41,
   "metadata": {
    "colab": {
     "base_uri": "https://localhost:8080/",
     "height": 105
    },
    "colab_type": "code",
    "id": "2iyojcBIrxCf",
    "outputId": "b2fc7b73-89ca-4829-9893-5a65f80a0491"
   },
   "outputs": [
    {
     "name": "stderr",
     "output_type": "stream",
     "text": [
      "/usr/local/lib/python3.6/dist-packages/statsmodels/tsa/base/tsa_model.py:165: ValueWarning: No frequency information was provided, so inferred frequency W-FRI will be used.\n",
      "  % freq, ValueWarning)\n",
      "/usr/local/lib/python3.6/dist-packages/statsmodels/tsa/base/tsa_model.py:165: ValueWarning: No frequency information was provided, so inferred frequency W-FRI will be used.\n",
      "  % freq, ValueWarning)\n"
     ]
    }
   ],
   "source": [
    "model_tsa = ARIMA(modified_data_store1, order=(1, 1, 1))"
   ]
  },
  {
   "cell_type": "code",
   "execution_count": 0,
   "metadata": {
    "colab": {},
    "colab_type": "code",
    "id": "H5ribA9gx9St"
   },
   "outputs": [],
   "source": [
    "final_model_tsa = model_tsa.fit()"
   ]
  },
  {
   "cell_type": "code",
   "execution_count": 0,
   "metadata": {
    "colab": {},
    "colab_type": "code",
    "id": "XvKjJM2CTM8M"
   },
   "outputs": [],
   "source": [
    "predictions_arima = final_model_tsa.forecast(steps=50)[0]"
   ]
  },
  {
   "cell_type": "code",
   "execution_count": 44,
   "metadata": {
    "colab": {
     "base_uri": "https://localhost:8080/",
     "height": 282
    },
    "colab_type": "code",
    "id": "oRw_E3SHqbQa",
    "outputId": "abf7b3d7-4170-45fa-b588-e87f08e16297"
   },
   "outputs": [
    {
     "data": {
      "text/plain": [
       "[<matplotlib.lines.Line2D at 0x7ff11cd93ba8>]"
      ]
     },
     "execution_count": 44,
     "metadata": {
      "tags": []
     },
     "output_type": "execute_result"
    },
    {
     "data": {
      "image/png": "[encoded data removed]",
      "text/plain": [
       "<Figure size 432x288 with 1 Axes>"
      ]
     },
     "metadata": {
      "needs_background": "light",
      "tags": []
     },
     "output_type": "display_data"
    }
   ],
   "source": [
    "plt.plot(predictions_arima)"
   ]
  },
  {
   "cell_type": "code",
   "execution_count": 0,
   "metadata": {
    "colab": {},
    "colab_type": "code",
    "id": "8e9FlrPoqxRh"
   },
   "outputs": [],
   "source": []
  },
  {
   "cell_type": "markdown",
   "metadata": {
    "colab_type": "text",
    "id": "Mmgpu4c_Otel"
   },
   "source": [
    "\n",
    "### 7. Linear Regression – Utilize variables like date and restructure dates as 1 for 5 Feb 2010 (starting from the earliest date in order). Hypothesize if CPI, unemployment, and fuel price have any impact on sales."
   ]
  },
  {
   "cell_type": "code",
   "execution_count": 0,
   "metadata": {
    "colab": {},
    "colab_type": "code",
    "id": "p1yxNoseq-_k"
   },
   "outputs": [],
   "source": [
    "wallmart_data['structuredDate'] = pd.Series((wallmart_data['Date'] - wallmart_data['Date'][0]) + pd.Timedelta('1 days')).astype('timedelta64[D]')"
   ]
  },
  {
   "cell_type": "code",
   "execution_count": 46,
   "metadata": {
    "colab": {
     "base_uri": "https://localhost:8080/",
     "height": 119
    },
    "colab_type": "code",
    "id": "DJQqL-E9mcxM",
    "outputId": "c48a2e3c-b1e7-44e7-9529-366984b4ab5d"
   },
   "outputs": [
    {
     "data": {
      "text/plain": [
       "0    1.0\n",
       "1    1.0\n",
       "2    1.0\n",
       "3    1.0\n",
       "4    1.0\n",
       "Name: structuredDate, dtype: float64"
      ]
     },
     "execution_count": 46,
     "metadata": {
      "tags": []
     },
     "output_type": "execute_result"
    }
   ],
   "source": [
    "wallmart_data['structuredDate'].head()"
   ]
  },
  {
   "cell_type": "code",
   "execution_count": 0,
   "metadata": {
    "colab": {},
    "colab_type": "code",
    "id": "J3WSf2Kkneau"
   },
   "outputs": [],
   "source": [
    "features = wallmart_data.drop(['Weekly_Sales', 'Date', 'holiday', 'months'], axis=1)\n",
    "y = wallmart_data.loc[:,'Weekly_Sales'].values"
   ]
  },
  {
   "cell_type": "code",
   "execution_count": 0,
   "metadata": {
    "colab": {},
    "colab_type": "code",
    "id": "Be5qBzOA9XlB"
   },
   "outputs": [],
   "source": []
  },
  {
   "cell_type": "code",
   "execution_count": 0,
   "metadata": {
    "colab": {},
    "colab_type": "code",
    "id": "oYuOvuwpqwHQ"
   },
   "outputs": [],
   "source": [
    "from sklearn.feature_selection import SelectKBest, SelectPercentile, f_regression"
   ]
  },
  {
   "cell_type": "code",
   "execution_count": 0,
   "metadata": {
    "colab": {},
    "colab_type": "code",
    "id": "-noJODiF4Fky"
   },
   "outputs": [],
   "source": [
    "test = SelectKBest(score_func=f_regression, k=4)\n",
    "fit = test.fit(features.values, y)"
   ]
  },
  {
   "cell_type": "code",
   "execution_count": 0,
   "metadata": {
    "colab": {},
    "colab_type": "code",
    "id": "J2WVnK3Q7crH"
   },
   "outputs": [],
   "source": [
    "feature_score = pd.DataFrame(fit.pvalues_ < 0.05, columns=['Selected'], index=features.columns)\n",
    "feature_score['score'] = fit.scores_\n",
    "feature_score['P'] = fit.pvalues_\n",
    "feature_score['P'] = feature_score['P'].round(5)"
   ]
  },
  {
   "cell_type": "code",
   "execution_count": 51,
   "metadata": {
    "colab": {
     "base_uri": "https://localhost:8080/",
     "height": 297
    },
    "colab_type": "code",
    "id": "rtL81a6v8GVF",
    "outputId": "949a1c40-9913-41bb-de2d-ef6ab39a4cfc"
   },
   "outputs": [
    {
     "data": {
      "text/html": [
       "<div>\n",
       "<style scoped>\n",
       "    .dataframe tbody tr th:only-of-type {\n",
       "        vertical-align: middle;\n",
       "    }\n",
       "\n",
       "    .dataframe tbody tr th {\n",
       "        vertical-align: top;\n",
       "    }\n",
       "\n",
       "    .dataframe thead th {\n",
       "        text-align: right;\n",
       "    }\n",
       "</style>\n",
       "<table border=\"1\" class=\"dataframe\">\n",
       "  <thead>\n",
       "    <tr style=\"text-align: right;\">\n",
       "      <th></th>\n",
       "      <th>Selected</th>\n",
       "      <th>score</th>\n",
       "      <th>P</th>\n",
       "    </tr>\n",
       "  </thead>\n",
       "  <tbody>\n",
       "    <tr>\n",
       "      <th>Store</th>\n",
       "      <td>True</td>\n",
       "      <td>815.022439</td>\n",
       "      <td>0.00000</td>\n",
       "    </tr>\n",
       "    <tr>\n",
       "      <th>Holiday_Flag</th>\n",
       "      <td>True</td>\n",
       "      <td>8.766881</td>\n",
       "      <td>0.00308</td>\n",
       "    </tr>\n",
       "    <tr>\n",
       "      <th>Temperature</th>\n",
       "      <td>True</td>\n",
       "      <td>26.300448</td>\n",
       "      <td>0.00000</td>\n",
       "    </tr>\n",
       "    <tr>\n",
       "      <th>Fuel_Price</th>\n",
       "      <td>False</td>\n",
       "      <td>0.576212</td>\n",
       "      <td>0.44783</td>\n",
       "    </tr>\n",
       "    <tr>\n",
       "      <th>CPI</th>\n",
       "      <td>True</td>\n",
       "      <td>34.118717</td>\n",
       "      <td>0.00000</td>\n",
       "    </tr>\n",
       "    <tr>\n",
       "      <th>Unemployment</th>\n",
       "      <td>True</td>\n",
       "      <td>73.348421</td>\n",
       "      <td>0.00000</td>\n",
       "    </tr>\n",
       "    <tr>\n",
       "      <th>semister</th>\n",
       "      <td>True</td>\n",
       "      <td>9.974309</td>\n",
       "      <td>0.00159</td>\n",
       "    </tr>\n",
       "    <tr>\n",
       "      <th>structuredDate</th>\n",
       "      <td>False</td>\n",
       "      <td>0.310688</td>\n",
       "      <td>0.57728</td>\n",
       "    </tr>\n",
       "  </tbody>\n",
       "</table>\n",
       "</div>"
      ],
      "text/plain": [
       "                Selected       score        P\n",
       "Store               True  815.022439  0.00000\n",
       "Holiday_Flag        True    8.766881  0.00308\n",
       "Temperature         True   26.300448  0.00000\n",
       "Fuel_Price         False    0.576212  0.44783\n",
       "CPI                 True   34.118717  0.00000\n",
       "Unemployment        True   73.348421  0.00000\n",
       "semister            True    9.974309  0.00159\n",
       "structuredDate     False    0.310688  0.57728"
      ]
     },
     "execution_count": 51,
     "metadata": {
      "tags": []
     },
     "output_type": "execute_result"
    }
   ],
   "source": [
    "feature_score"
   ]
  },
  {
   "cell_type": "code",
   "execution_count": 52,
   "metadata": {
    "colab": {
     "base_uri": "https://localhost:8080/",
     "height": 609
    },
    "colab_type": "code",
    "id": "oM8-MzaP8NcT",
    "outputId": "98c50c3f-4518-425e-dbc9-7969cf159bb4"
   },
   "outputs": [
    {
     "data": {
      "text/plain": [
       "[<matplotlib.lines.Line2D at 0x7ff1190f6d30>]"
      ]
     },
     "execution_count": 52,
     "metadata": {
      "tags": []
     },
     "output_type": "execute_result"
    },
    {
     "data": {
      "image/png": "[encoded data removed]",
      "text/plain": [
       "<Figure size 720x720 with 1 Axes>"
      ]
     },
     "metadata": {
      "needs_background": "light",
      "tags": []
     },
     "output_type": "display_data"
    }
   ],
   "source": [
    "plt.figure(figsize=(10, 10))\n",
    "plt.plot(feature_score['score'])"
   ]
  },
  {
   "cell_type": "markdown",
   "metadata": {
    "colab_type": "text",
    "id": "TrlKNyiVBXJW"
   },
   "source": [
    "**UnEmployment, CPI have impact on sales and Fuel_Price has no impact on sales**"
   ]
  },
  {
   "cell_type": "code",
   "execution_count": 0,
   "metadata": {
    "colab": {},
    "colab_type": "code",
    "id": "9duIBDPyAonA"
   },
   "outputs": [],
   "source": [
    "features.drop(['Fuel_Price', 'structuredDate'], axis=1, inplace=True)"
   ]
  },
  {
   "cell_type": "code",
   "execution_count": 0,
   "metadata": {
    "colab": {},
    "colab_type": "code",
    "id": "78fFhqFwEMOu"
   },
   "outputs": [],
   "source": [
    "from sklearn.model_selection import train_test_split"
   ]
  },
  {
   "cell_type": "code",
   "execution_count": 0,
   "metadata": {
    "colab": {},
    "colab_type": "code",
    "id": "uJNXk6TKEQ0u"
   },
   "outputs": [],
   "source": [
    "X_train, X_test, Y_train, Y_test = train_test_split(features, y, random_state=101, test_size=0.3) "
   ]
  },
  {
   "cell_type": "code",
   "execution_count": 0,
   "metadata": {
    "colab": {},
    "colab_type": "code",
    "id": "MVlG7HrWEr41"
   },
   "outputs": [],
   "source": []
  },
  {
   "cell_type": "code",
   "execution_count": 0,
   "metadata": {
    "colab": {},
    "colab_type": "code",
    "id": "Fel1h76_B9B6"
   },
   "outputs": [],
   "source": [
    "from sklearn.linear_model import  LinearRegression"
   ]
  },
  {
   "cell_type": "code",
   "execution_count": 57,
   "metadata": {
    "colab": {
     "base_uri": "https://localhost:8080/",
     "height": 34
    },
    "colab_type": "code",
    "id": "5H8Y5z4dCF_a",
    "outputId": "f5b64bea-799d-4c67-9bee-0a7b16434e93"
   },
   "outputs": [
    {
     "data": {
      "text/plain": [
       "LinearRegression(copy_X=True, fit_intercept=True, n_jobs=None, normalize=False)"
      ]
     },
     "execution_count": 57,
     "metadata": {
      "tags": []
     },
     "output_type": "execute_result"
    }
   ],
   "source": [
    "model_lr = LinearRegression()\n",
    "model_lr.fit(X_train, Y_train)"
   ]
  },
  {
   "cell_type": "code",
   "execution_count": 0,
   "metadata": {
    "colab": {},
    "colab_type": "code",
    "id": "LaqnQxS4F3nS"
   },
   "outputs": [],
   "source": [
    "predictions_lr = model_lr.predict(X_test)"
   ]
  },
  {
   "cell_type": "code",
   "execution_count": 0,
   "metadata": {
    "colab": {},
    "colab_type": "code",
    "id": "Fp-Bak2cGPwj"
   },
   "outputs": [],
   "source": []
  },
  {
   "cell_type": "code",
   "execution_count": 59,
   "metadata": {
    "colab": {
     "base_uri": "https://localhost:8080/",
     "height": 306
    },
    "colab_type": "code",
    "id": "osvIs0TAGk_4",
    "outputId": "2ca94ede-097a-402e-be78-c93bc1e8c67c"
   },
   "outputs": [
    {
     "data": {
      "text/plain": [
       "<matplotlib.axes._subplots.AxesSubplot at 0x7ff1190bf898>"
      ]
     },
     "execution_count": 59,
     "metadata": {
      "tags": []
     },
     "output_type": "execute_result"
    },
    {
     "data": {
      "image/png": "[encoded data removed]",
      "text/plain": [
       "<Figure size 432x288 with 1 Axes>"
      ]
     },
     "metadata": {
      "needs_background": "light",
      "tags": []
     },
     "output_type": "display_data"
    }
   ],
   "source": [
    "sns.scatterplot(x=Y_test, y=Y_test-predictions_lr)\n",
    "sns.lineplot(x=Y_test, y=(Y_test - Y_test.mean()) )"
   ]
  },
  {
   "cell_type": "code",
   "execution_count": 0,
   "metadata": {
    "colab": {},
    "colab_type": "code",
    "id": "-bLqJCRJMXJf"
   },
   "outputs": [],
   "source": []
  },
  {
   "cell_type": "markdown",
   "metadata": {
    "colab_type": "text",
    "id": "TGlib78mcuq9"
   },
   "source": [
    "### 8. Change dates into days by creating new variable."
   ]
  },
  {
   "cell_type": "code",
   "execution_count": 0,
   "metadata": {
    "colab": {},
    "colab_type": "code",
    "id": "QbfQgAwlOxW6"
   },
   "outputs": [],
   "source": [
    "features['days'] = pd.to_datetime(wallmart_data['Date'], format='%Y-%m-%d').dt.day"
   ]
  },
  {
   "cell_type": "code",
   "execution_count": 61,
   "metadata": {
    "colab": {
     "base_uri": "https://localhost:8080/",
     "height": 221
    },
    "colab_type": "code",
    "id": "hsPOz7icO3IK",
    "outputId": "351a88d7-e531-4e55-c979-7ff8077f9ce8"
   },
   "outputs": [
    {
     "data": {
      "text/plain": [
       "0        5\n",
       "1        5\n",
       "2        5\n",
       "3        5\n",
       "4        5\n",
       "        ..\n",
       "6430    26\n",
       "6431    26\n",
       "6432    26\n",
       "6433    26\n",
       "6434    26\n",
       "Name: days, Length: 6435, dtype: int64"
      ]
     },
     "execution_count": 61,
     "metadata": {
      "tags": []
     },
     "output_type": "execute_result"
    }
   ],
   "source": [
    "features['days']"
   ]
  },
  {
   "cell_type": "code",
   "execution_count": 0,
   "metadata": {
    "colab": {},
    "colab_type": "code",
    "id": "BwD2xUEqQMGr"
   },
   "outputs": [],
   "source": [
    "X_train, X_test, Y_train, Y_test = train_test_split(features, y, random_state=101, test_size=0.3) "
   ]
  },
  {
   "cell_type": "code",
   "execution_count": 63,
   "metadata": {
    "colab": {
     "base_uri": "https://localhost:8080/",
     "height": 34
    },
    "colab_type": "code",
    "id": "TnNWuBXpPu1v",
    "outputId": "5d70b60e-2145-4e42-843b-71940f7d743b"
   },
   "outputs": [
    {
     "data": {
      "text/plain": [
       "LinearRegression(copy_X=True, fit_intercept=True, n_jobs=None, normalize=False)"
      ]
     },
     "execution_count": 63,
     "metadata": {
      "tags": []
     },
     "output_type": "execute_result"
    }
   ],
   "source": [
    "model_lr1 = LinearRegression()\n",
    "model_lr1.fit(X_train, Y_train)"
   ]
  },
  {
   "cell_type": "code",
   "execution_count": 0,
   "metadata": {
    "colab": {},
    "colab_type": "code",
    "id": "0DXdu3hj5oLb"
   },
   "outputs": [],
   "source": [
    "predictions_lr1 = model_lr1.predict(X_test)"
   ]
  },
  {
   "cell_type": "code",
   "execution_count": 65,
   "metadata": {
    "colab": {
     "base_uri": "https://localhost:8080/",
     "height": 306
    },
    "colab_type": "code",
    "id": "nctNrE1lR8us",
    "outputId": "d1bbeca1-2faa-4608-f074-5315fb255ccc"
   },
   "outputs": [
    {
     "data": {
      "text/plain": [
       "<matplotlib.axes._subplots.AxesSubplot at 0x7ff119057630>"
      ]
     },
     "execution_count": 65,
     "metadata": {
      "tags": []
     },
     "output_type": "execute_result"
    },
    {
     "data": {
      "image/png": "[encoded data removed]",
      "text/plain": [
       "<Figure size 432x288 with 1 Axes>"
      ]
     },
     "metadata": {
      "needs_background": "light",
      "tags": []
     },
     "output_type": "display_data"
    }
   ],
   "source": [
    "sns.scatterplot(x=Y_test, y=Y_test-predictions_lr1)\n",
    "sns.lineplot(x=Y_test, y=(Y_test - Y_test.mean()) )"
   ]
  },
  {
   "cell_type": "code",
   "execution_count": 0,
   "metadata": {
    "colab": {},
    "colab_type": "code",
    "id": "YuMxgC49uthN"
   },
   "outputs": [],
   "source": []
  },
  {
   "cell_type": "code",
   "execution_count": 0,
   "metadata": {
    "colab": {},
    "colab_type": "code",
    "id": "98QSdfQiwId7"
   },
   "outputs": [],
   "source": []
  },
  {
   "cell_type": "code",
   "execution_count": 0,
   "metadata": {
    "colab": {},
    "colab_type": "code",
    "id": "91sTQPx7wjSp"
   },
   "outputs": [],
   "source": []
  }
 ],
 "metadata": {
  "colab": {
   "name": "Wallmart_Analysis.ipynb",
   "provenance": []
  },
  "kernelspec": {
   "display_name": "Python 3",
   "language": "python",
   "name": "python3"
  },
  "language_info": {
   "codemirror_mode": {
    "name": "ipython",
    "version": 3
   },
   "file_extension": ".py",
   "mimetype": "text/x-python",
   "name": "python",
   "nbconvert_exporter": "python",
   "pygments_lexer": "ipython3",
   "version": "3.7.4"
  }
 },
 "nbformat": 4,
 "nbformat_minor": 1
}
